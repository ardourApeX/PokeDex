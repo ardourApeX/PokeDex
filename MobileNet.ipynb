{
 "cells": [
  {
   "cell_type": "markdown",
   "metadata": {},
   "source": [
    "## Data Preparation"
   ]
  },
  {
   "cell_type": "code",
   "execution_count": 1,
   "metadata": {},
   "outputs": [],
   "source": [
    "import numpy as np\n",
    "import os\n",
    "from keras.preprocessing.image import ImageDataGenerator"
   ]
  },
  {
   "cell_type": "code",
   "execution_count": 2,
   "metadata": {},
   "outputs": [
    {
     "name": "stdout",
     "output_type": "stream",
     "text": [
      "These are all the classes available :\n",
      "['Aerodactyl', 'Bulbasaur', 'Charmander', 'Dratini', 'Fearow', 'Meowth', 'Pikachu', 'Psyduck', 'Spearow', 'Squirtle']\n"
     ]
    }
   ],
   "source": [
    "parent_dir = \"./dataset/\"\n",
    "folders = os.listdir(parent_dir + \"/train/\")\n",
    "print(\"These are all the classes available :\", folders, sep = \"\\n\")"
   ]
  },
  {
   "cell_type": "markdown",
   "metadata": {},
   "source": [
    "### ``` Train - Validation split Function```"
   ]
  },
  {
   "cell_type": "code",
   "execution_count": 5,
   "metadata": {},
   "outputs": [
    {
     "name": "stdout",
     "output_type": "stream",
     "text": [
      "Separation done successfully!\n"
     ]
    }
   ],
   "source": [
    "from utilities import create_folders\n",
    "create_folders(folders, parent_dir)"
   ]
  },
  {
   "cell_type": "markdown",
   "metadata": {},
   "source": [
    "``` How many images are there in training dataset```"
   ]
  },
  {
   "cell_type": "code",
   "execution_count": 6,
   "metadata": {},
   "outputs": [
    {
     "name": "stdout",
     "output_type": "stream",
     "text": [
      "Aerodactyl 72\n",
      "Bulbasaur 229\n",
      "Charmander 237\n",
      "Dratini 88\n",
      "Fearow 99\n",
      "Meowth 56\n",
      "Pikachu 241\n",
      "Psyduck 128\n",
      "Spearow 105\n",
      "Squirtle 223\n"
     ]
    }
   ],
   "source": [
    "for folder in folders:\n",
    "    Path = parent_dir + \"/train/\" + folder\n",
    "    print(folder + \" \" + str(len(os.listdir(Path))))"
   ]
  },
  {
   "cell_type": "markdown",
   "metadata": {},
   "source": [
    "``` How many images are there in validation dataset```"
   ]
  },
  {
   "cell_type": "code",
   "execution_count": 7,
   "metadata": {},
   "outputs": [
    {
     "name": "stdout",
     "output_type": "stream",
     "text": [
      "Aerodactyl 8\n",
      "Bulbasaur 26\n",
      "Charmander 27\n",
      "Dratini 10\n",
      "Fearow 12\n",
      "Meowth 7\n",
      "Pikachu 27\n",
      "Psyduck 15\n",
      "Spearow 12\n",
      "Squirtle 25\n"
     ]
    }
   ],
   "source": [
    "for folder in folders:\n",
    "    Path = parent_dir + \"/validation/\" + folder\n",
    "    print(folder + \" \" + str(len(os.listdir(Path))))"
   ]
  },
  {
   "cell_type": "markdown",
   "metadata": {},
   "source": [
    "### ``` Train Data Generator```"
   ]
  },
  {
   "cell_type": "code",
   "execution_count": 8,
   "metadata": {},
   "outputs": [],
   "source": [
    "from keras.preprocessing.image import ImageDataGenerator"
   ]
  },
  {
   "cell_type": "code",
   "execution_count": 9,
   "metadata": {},
   "outputs": [
    {
     "name": "stdout",
     "output_type": "stream",
     "text": [
      "Found 1473 images belonging to 10 classes.\n"
     ]
    }
   ],
   "source": [
    "train_gen = ImageDataGenerator(rescale = 1.0/255,\n",
    "                               rotation_range = 40,\n",
    "                               width_shift_range = 0.2,\n",
    "                               height_shift_range = 0.2,\n",
    "                               shear_range = 0.2,\n",
    "                               zoom_range = 0.3,\n",
    "                               horizontal_flip = True)\n",
    "\n",
    "train_generator = train_gen.flow_from_directory(parent_dir + \"/train/\",\n",
    "                                                target_size = (300, 300),\n",
    "                                                batch_size = 64,\n",
    "                                                class_mode = \"categorical\"\n",
    "                                                )"
   ]
  },
  {
   "cell_type": "markdown",
   "metadata": {},
   "source": [
    "### ```Validation Data Generator```"
   ]
  },
  {
   "cell_type": "code",
   "execution_count": 10,
   "metadata": {},
   "outputs": [
    {
     "name": "stdout",
     "output_type": "stream",
     "text": [
      "Found 169 images belonging to 10 classes.\n"
     ]
    }
   ],
   "source": [
    "valid_gen = ImageDataGenerator(rescale = 1.0/255)\n",
    "valid_generator = valid_gen.flow_from_directory(parent_dir + \"/validation/\",\n",
    "                                               target_size = (300, 300),\n",
    "                                               batch_size = 32,\n",
    "                                               class_mode = \"categorical\"\n",
    "                                               )"
   ]
  },
  {
   "cell_type": "markdown",
   "metadata": {},
   "source": [
    "``` Shape of Training & Validation Data```"
   ]
  },
  {
   "cell_type": "code",
   "execution_count": 11,
   "metadata": {},
   "outputs": [
    {
     "name": "stdout",
     "output_type": "stream",
     "text": [
      "(64, 300, 300, 3)\n",
      "(64, 10)\n"
     ]
    }
   ],
   "source": [
    "for x, y in train_generator:\n",
    "    print(x.shape)\n",
    "    print(y.shape)\n",
    "    break"
   ]
  },
  {
   "cell_type": "code",
   "execution_count": 12,
   "metadata": {},
   "outputs": [
    {
     "name": "stdout",
     "output_type": "stream",
     "text": [
      "(32, 300, 300, 3)\n",
      "(32, 10)\n"
     ]
    }
   ],
   "source": [
    "for x, y in valid_generator:\n",
    "    print(x.shape)\n",
    "    print(y.shape)\n",
    "    break"
   ]
  }
 ],
 "metadata": {
  "kernelspec": {
   "display_name": "Python 3",
   "language": "python",
   "name": "python3"
  },
  "language_info": {
   "codemirror_mode": {
    "name": "ipython",
    "version": 3
   },
   "file_extension": ".py",
   "mimetype": "text/x-python",
   "name": "python",
   "nbconvert_exporter": "python",
   "pygments_lexer": "ipython3",
   "version": "3.8.5"
  }
 },
 "nbformat": 4,
 "nbformat_minor": 4
}
